{
  "cells": [
    {
      "cell_type": "code",
      "source": [
        "!unzip 20211024.zip -d ./20211024"
      ],
      "metadata": {
        "id": "2T5YXnDNeIAL",
        "outputId": "a898bd1d-979f-4f83-b2ad-5871f1f4b581",
        "colab": {
          "base_uri": "https://localhost:8080/"
        }
      },
      "execution_count": 1,
      "outputs": [
        {
          "output_type": "stream",
          "name": "stdout",
          "text": [
            "Archive:  20211024.zip\n",
            "  inflating: ./20211024/agency.txt   \n",
            "  inflating: ./20211024/calendar.txt  \n",
            "  inflating: ./20211024/calendar_dates.txt  \n",
            "  inflating: ./20211024/routes.txt   \n",
            "  inflating: ./20211024/shapes.txt   \n",
            "  inflating: ./20211024/stop_times.txt  \n",
            "  inflating: ./20211024/stops.txt    \n",
            "  inflating: ./20211024/trips.txt    \n"
          ]
        }
      ]
    },
    {
      "cell_type": "code",
      "source": [
        "#clever bustime file\n",
        "!unzip bustime_chattanooga_jan_2022.json.zip"
      ],
      "metadata": {
        "id": "l1-umnICevUB",
        "outputId": "bc02930d-c2e7-4574-f0ac-8e7d7a2088c4",
        "colab": {
          "base_uri": "https://localhost:8080/"
        }
      },
      "execution_count": 2,
      "outputs": [
        {
          "output_type": "stream",
          "name": "stdout",
          "text": [
            "Archive:  bustime_chattanooga_jan_2022.json.zip\n",
            "  inflating: bustime_chattanooga_jan_2022.json  \n"
          ]
        }
      ]
    },
    {
      "cell_type": "code",
      "execution_count": 46,
      "source": [
        "import json, sys\n",
        "with open(\"bustime_chattanooga_jan_2022.json\", \"r\") as f:\n",
        "    data = json.load(f)\n",
        "\n",
        "#enter date of operation (here or as argument )\n",
        "date = '20220111'\n",
        "date = sys.argv[1]\n",
        "\n",
        "filtered = []\n",
        "for record in data:\n",
        "    tmstmp = record[\"tmstmp\"]\n",
        "    if date in tmstmp:\n",
        "        filtered.append(record)"
      ],
      "outputs": [],
      "metadata": {
        "id": "ImG_v4RWd1-g"
      }
    },
    {
      "cell_type": "code",
      "execution_count": 4,
      "source": [
        "filtered_trip = []\n",
        "for record in filtered:\n",
        "    trp = record[\"origtatripno\"]\n",
        "    if trp:\n",
        "        filtered_trip.append(trp)\n",
        "\n",
        "unique_trp = list(set(filtered_trip))\n",
        "unique_trp.sort()\n",
        "\n",
        "print(len(unique_trp))"
      ],
      "outputs": [
        {
          "output_type": "stream",
          "name": "stdout",
          "text": [
            "712\n"
          ]
        }
      ],
      "metadata": {
        "id": "InKAyifjd1-j",
        "outputId": "43b80d90-b92c-439d-ec45-b23a222c60c8",
        "colab": {
          "base_uri": "https://localhost:8080/"
        }
      }
    },
    {
      "cell_type": "code",
      "execution_count": 34,
      "source": [
        "import pandas as pd\n",
        "import json\n",
        "df1 = pd.read_csv(\"./20211024/trips.txt\", sep=\",\")\n",
        "df2 = pd.read_csv(\"./20211024/stop_times.txt\", sep=\",\")\n",
        "\n",
        "trips = unique_trp\n",
        "trips = list(map(int, trips))\n",
        "\n",
        "df1_fil  = pd.DataFrame(columns = df1.columns)\n",
        "df2_fil  = pd.DataFrame(columns = df2.columns)\n",
        "\n",
        "df1['trip_id'] = df1['trip_id'].apply(lambda x: int(x/1000))\n",
        "df2['trip_id'] = df2['trip_id'].apply(lambda x: int(x/1000))\n",
        "trips_df = pd.DataFrame(trips, columns=['trip_id'])"
      ],
      "outputs": [],
      "metadata": {
        "id": "bkk0fTaCd1-l"
      }
    },
    {
      "cell_type": "code",
      "source": [
        "filt_trips = pd.merge(trips_df, df1, how='inner', on=['trip_id'])"
      ],
      "metadata": {
        "id": "Yxq-IOiu0lxg"
      },
      "execution_count": 38,
      "outputs": []
    },
    {
      "cell_type": "code",
      "source": [
        "filt_stop_times = pd.merge(trips_df, df2, how='inner', on=['trip_id'])"
      ],
      "metadata": {
        "id": "_u8zWcvk1x8Y"
      },
      "execution_count": 39,
      "outputs": []
    },
    {
      "cell_type": "code",
      "source": [
        "#write to txt\n",
        "filt_trips.to_csv(r'trips_filtered.txt', header=True, index=None, sep=',', mode='a')\n",
        "filt_stop_times.to_csv(r'stop_times_filtered.txt', header=True, index=None, sep=',', mode='a')"
      ],
      "metadata": {
        "id": "aoHOmZZVfFoq"
      },
      "execution_count": 45,
      "outputs": []
    }
  ],
  "metadata": {
    "orig_nbformat": 4,
    "language_info": {
      "name": "python",
      "version": "3.9.0",
      "mimetype": "text/x-python",
      "codemirror_mode": {
        "name": "ipython",
        "version": 3
      },
      "pygments_lexer": "ipython3",
      "nbconvert_exporter": "python",
      "file_extension": ".py"
    },
    "kernelspec": {
      "name": "python3",
      "display_name": "Python 3.9.0 64-bit"
    },
    "interpreter": {
      "hash": "63fd5069d213b44bf678585dea6b12cceca9941eaf7f819626cde1f2670de90d"
    },
    "colab": {
      "name": "trips_filtering.ipynb",
      "provenance": []
    }
  },
  "nbformat": 4,
  "nbformat_minor": 0
}