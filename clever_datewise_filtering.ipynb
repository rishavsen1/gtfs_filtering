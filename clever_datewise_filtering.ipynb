{
  "cells": [
    {
      "cell_type": "code",
      "source": [
        "#clever bustime file\n",
        "!unzip bustime_chattanooga_jan_2022.json.zip"
      ],
      "metadata": {
        "id": "l1-umnICevUB",
        "outputId": "35733919-9efa-4988-d6e7-b0dd31bbd831",
        "colab": {
          "base_uri": "https://localhost:8080/"
        }
      },
      "execution_count": 1,
      "outputs": [
        {
          "output_type": "stream",
          "name": "stdout",
          "text": [
            "Archive:  bustime_chattanooga_jan_2022.json.zip\n",
            "  inflating: bustime_chattanooga_jan_2022.json  \n"
          ]
        }
      ]
    },
    {
      "cell_type": "code",
      "execution_count": 2,
      "source": [
        "import json, sys\n",
        "with open(\"bustime_chattanooga_jan_2022.json\", \"r\") as f:\n",
        "    data = json.load(f)"
      ],
      "outputs": [],
      "metadata": {
        "id": "ImG_v4RWd1-g"
      }
    },
    {
      "cell_type": "code",
      "source": [
        "#enter date of operation (here or as argument )\n",
        "dates = []\n",
        "for i in range(20220101, 20220132):\n",
        "  dates.append(str(i))\n",
        "# date = sys.argv[1]"
      ],
      "metadata": {
        "id": "jLVjFtPzgxyN"
      },
      "execution_count": 3,
      "outputs": []
    },
    {
      "cell_type": "code",
      "source": [
        "import pandas as pd\n",
        "filt_arr = []\n",
        "df = pd.DataFrame()\n",
        "for date in dates:\n",
        "  filtered = [x for x in data if date in x['tmstmp']]\n",
        "  temp = pd.DataFrame(filtered)\n",
        "  df = df.append(temp, ignore_index=True)"
      ],
      "metadata": {
        "id": "pdE34DLoTAtK"
      },
      "execution_count": 63,
      "outputs": []
    },
    {
      "cell_type": "code",
      "source": [
        "df = df[['origtatripno', 'lat', 'lon', 'tmstmp']].dropna(subset=['origtatripno', 'origtatripno']).sort_values('tmstmp').reset_index()\n",
        "df.to_csv('clever_jan.csv', index=False)"
      ],
      "metadata": {
        "id": "TgpeO5qMhTEw"
      },
      "execution_count": 64,
      "outputs": []
    },
    {
      "cell_type": "code",
      "source": [
        "df"
      ],
      "metadata": {
        "colab": {
          "base_uri": "https://localhost:8080/",
          "height": 424
        },
        "id": "XUhqLpx-kSbL",
        "outputId": "66603372-905a-4e05-d44c-6c8057434488"
      },
      "execution_count": 65,
      "outputs": [
        {
          "output_type": "execute_result",
          "data": {
            "text/plain": [
              "          index origtatripno                 lat                 lon  \\\n",
              "0          1625       205712   35.04140090942383  -85.30850219726562   \n",
              "1          1641       205712   35.04180145263672  -85.30931854248047   \n",
              "2          1655       205712   35.04164123535156  -85.30964660644531   \n",
              "3          1670       205712   35.04036331176758  -85.30973052978516   \n",
              "4          1685       205712   35.03997039794922  -85.30995178222656   \n",
              "...         ...          ...                 ...                 ...   \n",
              "943439  1562928       204959   34.98988342285156  -85.30777740478516   \n",
              "943440  1562929       205173   35.05787007258488  -85.25315305269682   \n",
              "943441  1562932       204959   34.98940658569336  -85.30499267578125   \n",
              "943442  1562933       206345  35.010658264160156  -85.21736907958984   \n",
              "943443  1562937       206345  35.010658264160156  -85.21736907958984   \n",
              "\n",
              "                tmstmp  \n",
              "0       20220102 08:08  \n",
              "1       20220102 08:09  \n",
              "2       20220102 08:09  \n",
              "3       20220102 08:10  \n",
              "4       20220102 08:10  \n",
              "...                ...  \n",
              "943439  20220131 23:59  \n",
              "943440  20220131 23:59  \n",
              "943441  20220131 23:59  \n",
              "943442  20220131 23:59  \n",
              "943443  20220131 23:59  \n",
              "\n",
              "[943444 rows x 5 columns]"
            ],
            "text/html": [
              "\n",
              "  <div id=\"df-7ebc9594-0c2b-4f15-a232-abc15e7e6528\">\n",
              "    <div class=\"colab-df-container\">\n",
              "      <div>\n",
              "<style scoped>\n",
              "    .dataframe tbody tr th:only-of-type {\n",
              "        vertical-align: middle;\n",
              "    }\n",
              "\n",
              "    .dataframe tbody tr th {\n",
              "        vertical-align: top;\n",
              "    }\n",
              "\n",
              "    .dataframe thead th {\n",
              "        text-align: right;\n",
              "    }\n",
              "</style>\n",
              "<table border=\"1\" class=\"dataframe\">\n",
              "  <thead>\n",
              "    <tr style=\"text-align: right;\">\n",
              "      <th></th>\n",
              "      <th>index</th>\n",
              "      <th>origtatripno</th>\n",
              "      <th>lat</th>\n",
              "      <th>lon</th>\n",
              "      <th>tmstmp</th>\n",
              "    </tr>\n",
              "  </thead>\n",
              "  <tbody>\n",
              "    <tr>\n",
              "      <th>0</th>\n",
              "      <td>1625</td>\n",
              "      <td>205712</td>\n",
              "      <td>35.04140090942383</td>\n",
              "      <td>-85.30850219726562</td>\n",
              "      <td>20220102 08:08</td>\n",
              "    </tr>\n",
              "    <tr>\n",
              "      <th>1</th>\n",
              "      <td>1641</td>\n",
              "      <td>205712</td>\n",
              "      <td>35.04180145263672</td>\n",
              "      <td>-85.30931854248047</td>\n",
              "      <td>20220102 08:09</td>\n",
              "    </tr>\n",
              "    <tr>\n",
              "      <th>2</th>\n",
              "      <td>1655</td>\n",
              "      <td>205712</td>\n",
              "      <td>35.04164123535156</td>\n",
              "      <td>-85.30964660644531</td>\n",
              "      <td>20220102 08:09</td>\n",
              "    </tr>\n",
              "    <tr>\n",
              "      <th>3</th>\n",
              "      <td>1670</td>\n",
              "      <td>205712</td>\n",
              "      <td>35.04036331176758</td>\n",
              "      <td>-85.30973052978516</td>\n",
              "      <td>20220102 08:10</td>\n",
              "    </tr>\n",
              "    <tr>\n",
              "      <th>4</th>\n",
              "      <td>1685</td>\n",
              "      <td>205712</td>\n",
              "      <td>35.03997039794922</td>\n",
              "      <td>-85.30995178222656</td>\n",
              "      <td>20220102 08:10</td>\n",
              "    </tr>\n",
              "    <tr>\n",
              "      <th>...</th>\n",
              "      <td>...</td>\n",
              "      <td>...</td>\n",
              "      <td>...</td>\n",
              "      <td>...</td>\n",
              "      <td>...</td>\n",
              "    </tr>\n",
              "    <tr>\n",
              "      <th>943439</th>\n",
              "      <td>1562928</td>\n",
              "      <td>204959</td>\n",
              "      <td>34.98988342285156</td>\n",
              "      <td>-85.30777740478516</td>\n",
              "      <td>20220131 23:59</td>\n",
              "    </tr>\n",
              "    <tr>\n",
              "      <th>943440</th>\n",
              "      <td>1562929</td>\n",
              "      <td>205173</td>\n",
              "      <td>35.05787007258488</td>\n",
              "      <td>-85.25315305269682</td>\n",
              "      <td>20220131 23:59</td>\n",
              "    </tr>\n",
              "    <tr>\n",
              "      <th>943441</th>\n",
              "      <td>1562932</td>\n",
              "      <td>204959</td>\n",
              "      <td>34.98940658569336</td>\n",
              "      <td>-85.30499267578125</td>\n",
              "      <td>20220131 23:59</td>\n",
              "    </tr>\n",
              "    <tr>\n",
              "      <th>943442</th>\n",
              "      <td>1562933</td>\n",
              "      <td>206345</td>\n",
              "      <td>35.010658264160156</td>\n",
              "      <td>-85.21736907958984</td>\n",
              "      <td>20220131 23:59</td>\n",
              "    </tr>\n",
              "    <tr>\n",
              "      <th>943443</th>\n",
              "      <td>1562937</td>\n",
              "      <td>206345</td>\n",
              "      <td>35.010658264160156</td>\n",
              "      <td>-85.21736907958984</td>\n",
              "      <td>20220131 23:59</td>\n",
              "    </tr>\n",
              "  </tbody>\n",
              "</table>\n",
              "<p>943444 rows × 5 columns</p>\n",
              "</div>\n",
              "      <button class=\"colab-df-convert\" onclick=\"convertToInteractive('df-7ebc9594-0c2b-4f15-a232-abc15e7e6528')\"\n",
              "              title=\"Convert this dataframe to an interactive table.\"\n",
              "              style=\"display:none;\">\n",
              "        \n",
              "  <svg xmlns=\"http://www.w3.org/2000/svg\" height=\"24px\"viewBox=\"0 0 24 24\"\n",
              "       width=\"24px\">\n",
              "    <path d=\"M0 0h24v24H0V0z\" fill=\"none\"/>\n",
              "    <path d=\"M18.56 5.44l.94 2.06.94-2.06 2.06-.94-2.06-.94-.94-2.06-.94 2.06-2.06.94zm-11 1L8.5 8.5l.94-2.06 2.06-.94-2.06-.94L8.5 2.5l-.94 2.06-2.06.94zm10 10l.94 2.06.94-2.06 2.06-.94-2.06-.94-.94-2.06-.94 2.06-2.06.94z\"/><path d=\"M17.41 7.96l-1.37-1.37c-.4-.4-.92-.59-1.43-.59-.52 0-1.04.2-1.43.59L10.3 9.45l-7.72 7.72c-.78.78-.78 2.05 0 2.83L4 21.41c.39.39.9.59 1.41.59.51 0 1.02-.2 1.41-.59l7.78-7.78 2.81-2.81c.8-.78.8-2.07 0-2.86zM5.41 20L4 18.59l7.72-7.72 1.47 1.35L5.41 20z\"/>\n",
              "  </svg>\n",
              "      </button>\n",
              "      \n",
              "  <style>\n",
              "    .colab-df-container {\n",
              "      display:flex;\n",
              "      flex-wrap:wrap;\n",
              "      gap: 12px;\n",
              "    }\n",
              "\n",
              "    .colab-df-convert {\n",
              "      background-color: #E8F0FE;\n",
              "      border: none;\n",
              "      border-radius: 50%;\n",
              "      cursor: pointer;\n",
              "      display: none;\n",
              "      fill: #1967D2;\n",
              "      height: 32px;\n",
              "      padding: 0 0 0 0;\n",
              "      width: 32px;\n",
              "    }\n",
              "\n",
              "    .colab-df-convert:hover {\n",
              "      background-color: #E2EBFA;\n",
              "      box-shadow: 0px 1px 2px rgba(60, 64, 67, 0.3), 0px 1px 3px 1px rgba(60, 64, 67, 0.15);\n",
              "      fill: #174EA6;\n",
              "    }\n",
              "\n",
              "    [theme=dark] .colab-df-convert {\n",
              "      background-color: #3B4455;\n",
              "      fill: #D2E3FC;\n",
              "    }\n",
              "\n",
              "    [theme=dark] .colab-df-convert:hover {\n",
              "      background-color: #434B5C;\n",
              "      box-shadow: 0px 1px 3px 1px rgba(0, 0, 0, 0.15);\n",
              "      filter: drop-shadow(0px 1px 2px rgba(0, 0, 0, 0.3));\n",
              "      fill: #FFFFFF;\n",
              "    }\n",
              "  </style>\n",
              "\n",
              "      <script>\n",
              "        const buttonEl =\n",
              "          document.querySelector('#df-7ebc9594-0c2b-4f15-a232-abc15e7e6528 button.colab-df-convert');\n",
              "        buttonEl.style.display =\n",
              "          google.colab.kernel.accessAllowed ? 'block' : 'none';\n",
              "\n",
              "        async function convertToInteractive(key) {\n",
              "          const element = document.querySelector('#df-7ebc9594-0c2b-4f15-a232-abc15e7e6528');\n",
              "          const dataTable =\n",
              "            await google.colab.kernel.invokeFunction('convertToInteractive',\n",
              "                                                     [key], {});\n",
              "          if (!dataTable) return;\n",
              "\n",
              "          const docLinkHtml = 'Like what you see? Visit the ' +\n",
              "            '<a target=\"_blank\" href=https://colab.research.google.com/notebooks/data_table.ipynb>data table notebook</a>'\n",
              "            + ' to learn more about interactive tables.';\n",
              "          element.innerHTML = '';\n",
              "          dataTable['output_type'] = 'display_data';\n",
              "          await google.colab.output.renderOutput(dataTable, element);\n",
              "          const docLink = document.createElement('div');\n",
              "          docLink.innerHTML = docLinkHtml;\n",
              "          element.appendChild(docLink);\n",
              "        }\n",
              "      </script>\n",
              "    </div>\n",
              "  </div>\n",
              "  "
            ]
          },
          "metadata": {},
          "execution_count": 65
        }
      ]
    }
  ],
  "metadata": {
    "orig_nbformat": 4,
    "language_info": {
      "name": "python",
      "version": "3.9.0",
      "mimetype": "text/x-python",
      "codemirror_mode": {
        "name": "ipython",
        "version": 3
      },
      "pygments_lexer": "ipython3",
      "nbconvert_exporter": "python",
      "file_extension": ".py"
    },
    "kernelspec": {
      "name": "python3",
      "display_name": "Python 3.9.0 64-bit"
    },
    "interpreter": {
      "hash": "63fd5069d213b44bf678585dea6b12cceca9941eaf7f819626cde1f2670de90d"
    },
    "colab": {
      "name": "trips_filtering.ipynb",
      "provenance": []
    }
  },
  "nbformat": 4,
  "nbformat_minor": 0
}