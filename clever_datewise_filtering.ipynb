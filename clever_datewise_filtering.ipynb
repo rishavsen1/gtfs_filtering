{
  "cells": [
    {
      "cell_type": "code",
      "source": [
        "#clever bustime file\n",
        "!unzip bustime_chattanooga_jan_2022.json.zip"
      ],
      "metadata": {
        "id": "l1-umnICevUB",
        "outputId": "19d56d18-c690-41d1-dd17-2aa36c65fd54",
        "colab": {
          "base_uri": "https://localhost:8080/"
        }
      },
      "execution_count": 1,
      "outputs": [
        {
          "output_type": "stream",
          "name": "stdout",
          "text": [
            "Archive:  bustime_chattanooga_jan_2022.json.zip\n",
            "  inflating: bustime_chattanooga_jan_2022.json  \n"
          ]
        }
      ]
    },
    {
      "cell_type": "code",
      "execution_count": 4,
      "source": [
        "import json, sys\n",
        "with open(\"bustime_chattanooga_jan_2022.json\", \"r\") as f:\n",
        "    data = json.load(f)"
      ],
      "outputs": [],
      "metadata": {
        "id": "ImG_v4RWd1-g"
      }
    },
    {
      "cell_type": "code",
      "source": [
        "#enter date of operation (here or as argument )\n",
        "dates = []\n",
        "for i in range(20220101, 20220132):\n",
        "  dates.append(str(i))\n",
        "# date = sys.argv[1]"
      ],
      "metadata": {
        "id": "jLVjFtPzgxyN"
      },
      "execution_count": 6,
      "outputs": []
    },
    {
      "cell_type": "code",
      "source": [
        "for date in dates:\n",
        "  filtered = [x for x in data if date in x['tmstmp']]"
      ],
      "metadata": {
        "id": "pdE34DLoTAtK"
      },
      "execution_count": 8,
      "outputs": []
    },
    {
      "cell_type": "code",
      "source": [
        "import pandas as pd\n",
        "pd.DataFrame(filtered)[['origtatripno', 'lat', 'lon', 'tmstmp']].dropna(subset=['origtatripno']).reset_index().to_csv('clever_month_jan.csv')"
      ],
      "metadata": {
        "id": "TgpeO5qMhTEw"
      },
      "execution_count": 17,
      "outputs": []
    }
  ],
  "metadata": {
    "orig_nbformat": 4,
    "language_info": {
      "name": "python",
      "version": "3.9.0",
      "mimetype": "text/x-python",
      "codemirror_mode": {
        "name": "ipython",
        "version": 3
      },
      "pygments_lexer": "ipython3",
      "nbconvert_exporter": "python",
      "file_extension": ".py"
    },
    "kernelspec": {
      "name": "python3",
      "display_name": "Python 3.9.0 64-bit"
    },
    "interpreter": {
      "hash": "63fd5069d213b44bf678585dea6b12cceca9941eaf7f819626cde1f2670de90d"
    },
    "colab": {
      "name": "trips_filtering.ipynb",
      "provenance": []
    }
  },
  "nbformat": 4,
  "nbformat_minor": 0
}