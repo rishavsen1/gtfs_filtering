{
  "cells": [
    {
      "cell_type": "markdown",
      "metadata": {
        "id": "view-in-github",
        "colab_type": "text"
      },
      "source": [
        "<a href=\"https://colab.research.google.com/github/rishavsen1/gtfs_filtering/blob/main/trips_spd_lon_lat.ipynb\" target=\"_parent\"><img src=\"https://colab.research.google.com/assets/colab-badge.svg\" alt=\"Open In Colab\"/></a>"
      ]
    },
    {
      "cell_type": "code",
      "source": [
        "!unzip bustime_chattanooga_jan_2022.json.zip"
      ],
      "metadata": {
        "colab": {
          "base_uri": "https://localhost:8080/"
        },
        "id": "_utdYy2FlKSZ",
        "outputId": "20138d11-8954-44fb-924b-86b4530e9b6f"
      },
      "execution_count": 1,
      "outputs": [
        {
          "output_type": "stream",
          "name": "stdout",
          "text": [
            "Archive:  bustime_chattanooga_jan_2022.json.zip\n",
            "  inflating: bustime_chattanooga_jan_2022.json  \n"
          ]
        }
      ]
    },
    {
      "cell_type": "code",
      "execution_count": 2,
      "source": [
        "import json\n",
        "with open(\"bustime_chattanooga_jan_2022.json\", \"r\") as f:\n",
        "    data = json.load(f)\n",
        "\n",
        "dated = []\n",
        "for record in data:\n",
        "    tmstmp = record[\"tmstmp\"]\n",
        "    if \"20220111\" in tmstmp:\n",
        "\n",
        "        dated.append(record)\n",
        "\n"
      ],
      "outputs": [],
      "metadata": {
        "id": "QAtC8n8UlDU2"
      }
    },
    {
      "cell_type": "code",
      "source": [
        "dated[1]"
      ],
      "metadata": {
        "id": "L6I8yEo3r0GC",
        "outputId": "a2fd84a1-c9c2-4d04-e529-2a3c1fc25edb",
        "colab": {
          "base_uri": "https://localhost:8080/"
        }
      },
      "execution_count": 18,
      "outputs": [
        {
          "output_type": "execute_result",
          "data": {
            "text/plain": [
              "{'_id': {'$oid': '61dd0f014a63d75fa69c0601'},\n",
              " 'des': None,\n",
              " 'dly': 'false',\n",
              " 'geometry': {'coordinates': ['-85.269788', '35.05660966666667'],\n",
              "  'type': 'Point'},\n",
              " 'hdg': '119',\n",
              " 'lat': '35.05660966666667',\n",
              " 'lon': '-85.269788',\n",
              " 'mode': '0',\n",
              " 'oid': 'N/A',\n",
              " 'or': 'true',\n",
              " 'origtatripno': None,\n",
              " 'pdist': '0',\n",
              " 'pid': '-1',\n",
              " 'psgld': 'EMPTY',\n",
              " 'rid': 'N/A',\n",
              " 'rt': 'U',\n",
              " 'spd': '1',\n",
              " 'srvtmstmp': '20220111 00:00',\n",
              " 'tablockid': 'N/A',\n",
              " 'tatripid': 'N/A',\n",
              " 'timestamp': 1641877200,\n",
              " 'tmstmp': '20220111 00:00',\n",
              " 'tripdyn': '0',\n",
              " 'vid': '127',\n",
              " 'zone': None}"
            ]
          },
          "metadata": {},
          "execution_count": 18
        }
      ]
    },
    {
      "cell_type": "code",
      "source": [
        ""
      ],
      "metadata": {
        "id": "TGG7Sypxsrnt"
      },
      "execution_count": null,
      "outputs": []
    },
    {
      "cell_type": "code",
      "source": [
        "# from shapely import geometry\n",
        "[val.geometry.coordinates for val in dated]"
      ],
      "metadata": {
        "id": "NkWSJywJsVB2",
        "outputId": "ba5b5b3b-ce21-40a9-bbbf-eb8a190bc868",
        "colab": {
          "base_uri": "https://localhost:8080/",
          "height": 252
        }
      },
      "execution_count": 15,
      "outputs": [
        {
          "output_type": "error",
          "ename": "AttributeError",
          "evalue": "ignored",
          "traceback": [
            "\u001b[0;31m---------------------------------------------------------------------------\u001b[0m",
            "\u001b[0;31mAttributeError\u001b[0m                            Traceback (most recent call last)",
            "\u001b[0;32m<ipython-input-15-80a288bc9674>\u001b[0m in \u001b[0;36m<module>\u001b[0;34m()\u001b[0m\n\u001b[1;32m      1\u001b[0m \u001b[0;31m# from shapely import geometry\u001b[0m\u001b[0;34m\u001b[0m\u001b[0;34m\u001b[0m\u001b[0;34m\u001b[0m\u001b[0m\n\u001b[0;32m----> 2\u001b[0;31m \u001b[0;34m[\u001b[0m\u001b[0mval\u001b[0m\u001b[0;34m.\u001b[0m\u001b[0mgeometry\u001b[0m\u001b[0;34m.\u001b[0m\u001b[0mcoordinates\u001b[0m \u001b[0;32mfor\u001b[0m \u001b[0mval\u001b[0m \u001b[0;32min\u001b[0m \u001b[0mdated\u001b[0m\u001b[0;34m]\u001b[0m\u001b[0;34m\u001b[0m\u001b[0;34m\u001b[0m\u001b[0m\n\u001b[0m",
            "\u001b[0;32m<ipython-input-15-80a288bc9674>\u001b[0m in \u001b[0;36m<listcomp>\u001b[0;34m(.0)\u001b[0m\n\u001b[1;32m      1\u001b[0m \u001b[0;31m# from shapely import geometry\u001b[0m\u001b[0;34m\u001b[0m\u001b[0;34m\u001b[0m\u001b[0;34m\u001b[0m\u001b[0m\n\u001b[0;32m----> 2\u001b[0;31m \u001b[0;34m[\u001b[0m\u001b[0mval\u001b[0m\u001b[0;34m.\u001b[0m\u001b[0mgeometry\u001b[0m\u001b[0;34m.\u001b[0m\u001b[0mcoordinates\u001b[0m \u001b[0;32mfor\u001b[0m \u001b[0mval\u001b[0m \u001b[0;32min\u001b[0m \u001b[0mdated\u001b[0m\u001b[0;34m]\u001b[0m\u001b[0;34m\u001b[0m\u001b[0;34m\u001b[0m\u001b[0m\n\u001b[0m",
            "\u001b[0;31mAttributeError\u001b[0m: 'dict' object has no attribute 'geometry'"
          ]
        }
      ]
    },
    {
      "cell_type": "code",
      "source": [
        "\n",
        "for val in dated:\n",
        "  val['coords'] = val['geometry']['coordinates']"
      ],
      "metadata": {
        "id": "Bf2lyEZitQNU"
      },
      "execution_count": 21,
      "outputs": []
    },
    {
      "cell_type": "code",
      "source": [
        "dated[100]"
      ],
      "metadata": {
        "id": "LBgvOg5OtkTS",
        "outputId": "81929aa7-3562-4b70-b370-4bc3b438ee58",
        "colab": {
          "base_uri": "https://localhost:8080/"
        }
      },
      "execution_count": 83,
      "outputs": [
        {
          "output_type": "execute_result",
          "data": {
            "text/plain": [
              "{'_id': {'$oid': '61dd113e4a63d75fa69c0677'},\n",
              " 'coords': ['-85.30130767822266', '35.051998138427734'],\n",
              " 'des': 'Avondale',\n",
              " 'dly': 'false',\n",
              " 'geometry': {'coordinates': ['-85.30130767822266', '35.051998138427734'],\n",
              "  'type': 'Point'},\n",
              " 'hdg': '295',\n",
              " 'lat': '35.051998138427734',\n",
              " 'lon': '-85.30130767822266',\n",
              " 'mode': '0',\n",
              " 'oid': '160951',\n",
              " 'or': 'false',\n",
              " 'origtatripno': '205087',\n",
              " 'pdist': '25276',\n",
              " 'pid': '975',\n",
              " 'psgld': 'EMPTY',\n",
              " 'rid': '45',\n",
              " 'rt': '10A',\n",
              " 'spd': '0',\n",
              " 'srvtmstmp': '20220111 00:10',\n",
              " 'tablockid': '1551',\n",
              " 'tatripid': '205087',\n",
              " 'timestamp': 1641877800,\n",
              " 'tmstmp': '20220111 00:10',\n",
              " 'tripdyn': '0',\n",
              " 'vid': '150',\n",
              " 'zone': None}"
            ]
          },
          "metadata": {},
          "execution_count": 83
        }
      ]
    },
    {
      "cell_type": "code",
      "source": [
        "import pandas as pd\n",
        "import geopandas as gpd\n",
        "# dated[10]\n",
        "df = pd.DataFrame(dated)\n",
        "df = df[['origtatripno', 'vid', 'tmstmp', 'timestamp', 'spd', 'lat', 'lon' ]]\n",
        "# print(df.head())\n",
        "df = df[df['timestamp']>1641890000]\n",
        "df = df.dropna()\n",
        "df = df.sort_values(by=['origtatripno', 'timestamp']).reset_index().drop(['index'], axis=1)\n",
        "gdf = gpd.GeoDataFrame(df, geometry=gpd.points_from_xy(df['lon'], df['lat'])).set_crs('EPSG:4326')"
      ],
      "metadata": {
        "id": "zN44DPkz5XVB"
      },
      "execution_count": 84,
      "outputs": []
    },
    {
      "cell_type": "code",
      "source": [
        "p1 = gdf[gdf['origtatripno'] == '204888']\n",
        "# p1.plot()\n",
        "gdf['origtatripno'].value_counts()"
      ],
      "metadata": {
        "id": "4l9maPakuqVQ",
        "outputId": "12f10440-8044-457c-96eb-8d104c24dd03",
        "colab": {
          "base_uri": "https://localhost:8080/"
        }
      },
      "execution_count": 85,
      "outputs": [
        {
          "output_type": "execute_result",
          "data": {
            "text/plain": [
              "206125    203\n",
              "206343    200\n",
              "205923    190\n",
              "204898    189\n",
              "206312    188\n",
              "         ... \n",
              "204959      6\n",
              "205369      2\n",
              "206037      2\n",
              "205087      1\n",
              "206048      1\n",
              "Name: origtatripno, Length: 712, dtype: int64"
            ]
          },
          "metadata": {},
          "execution_count": 85
        }
      ]
    },
    {
      "cell_type": "code",
      "source": [
        "gdf.to_csv('20220111_spd_lat_long.geojson')"
      ],
      "metadata": {
        "id": "EogvU46SxXrB"
      },
      "execution_count": 89,
      "outputs": []
    },
    {
      "cell_type": "code",
      "source": [
        "from google.colab import files\n",
        "files.download('20220111_spd_lat_long.geojson') "
      ],
      "metadata": {
        "id": "VRqhA6c1z5jk",
        "outputId": "b9931721-c690-491d-87f1-8fd08b41cefb",
        "colab": {
          "base_uri": "https://localhost:8080/",
          "height": 17
        }
      },
      "execution_count": 90,
      "outputs": [
        {
          "output_type": "display_data",
          "data": {
            "text/plain": [
              "<IPython.core.display.Javascript object>"
            ],
            "application/javascript": [
              "\n",
              "    async function download(id, filename, size) {\n",
              "      if (!google.colab.kernel.accessAllowed) {\n",
              "        return;\n",
              "      }\n",
              "      const div = document.createElement('div');\n",
              "      const label = document.createElement('label');\n",
              "      label.textContent = `Downloading \"${filename}\": `;\n",
              "      div.appendChild(label);\n",
              "      const progress = document.createElement('progress');\n",
              "      progress.max = size;\n",
              "      div.appendChild(progress);\n",
              "      document.body.appendChild(div);\n",
              "\n",
              "      const buffers = [];\n",
              "      let downloaded = 0;\n",
              "\n",
              "      const channel = await google.colab.kernel.comms.open(id);\n",
              "      // Send a message to notify the kernel that we're ready.\n",
              "      channel.send({})\n",
              "\n",
              "      for await (const message of channel.messages) {\n",
              "        // Send a message to notify the kernel that we're ready.\n",
              "        channel.send({})\n",
              "        if (message.buffers) {\n",
              "          for (const buffer of message.buffers) {\n",
              "            buffers.push(buffer);\n",
              "            downloaded += buffer.byteLength;\n",
              "            progress.value = downloaded;\n",
              "          }\n",
              "        }\n",
              "      }\n",
              "      const blob = new Blob(buffers, {type: 'application/binary'});\n",
              "      const a = document.createElement('a');\n",
              "      a.href = window.URL.createObjectURL(blob);\n",
              "      a.download = filename;\n",
              "      div.appendChild(a);\n",
              "      a.click();\n",
              "      div.remove();\n",
              "    }\n",
              "  "
            ]
          },
          "metadata": {}
        },
        {
          "output_type": "display_data",
          "data": {
            "text/plain": [
              "<IPython.core.display.Javascript object>"
            ],
            "application/javascript": [
              "download(\"download_040bd8b2-fca0-4d9a-bb9a-2c695d440ca7\", \"20220111_spd_lat_long.geojson\", 5122751)"
            ]
          },
          "metadata": {}
        }
      ]
    },
    {
      "cell_type": "code",
      "execution_count": null,
      "source": [
        "from datetime import time\n",
        "data =dated\n",
        "data_gen = []\n",
        "vid = []\n",
        "prev_trip_id = None\n",
        "for record in data:\n",
        "    trip_id = record[\"origtatripno\"]\n",
        "    if prev_trip_id != trip_id:\n",
        "        vid = record['vid']\n",
        "        srvtmstmp = record['srvtmstmp']\n",
        "        data_gen.append({\"trip_id\": trip_id, \"vid\":vid, \"start_time\":srvtmstmp})\n",
        "        prev_trip_id = trip_id\n",
        "\n",
        "# unique_trp = list(set(data_gen))\n",
        "# unique_trp.sort()\n",
        "# data_gen\n",
        "# print(len(unique_trp))"
      ],
      "outputs": [],
      "metadata": {
        "id": "GSja--BilDU7"
      }
    },
    {
      "cell_type": "code",
      "source": [
        "len(data_gen)"
      ],
      "metadata": {
        "colab": {
          "base_uri": "https://localhost:8080/"
        },
        "id": "wk-LobhfmvXn",
        "outputId": "3ee9a98a-3437-4567-dfc2-82d371f5c952"
      },
      "execution_count": null,
      "outputs": [
        {
          "output_type": "execute_result",
          "data": {
            "text/plain": [
              "44189"
            ]
          },
          "metadata": {},
          "execution_count": 16
        }
      ]
    },
    {
      "cell_type": "code",
      "source": [
        "import pandas as pd\n",
        "data_gen_df = pd.DataFrame(data_gen, columns=[\"trip_id\", 'vid', 'start_time'])\n",
        "data_gen_df"
      ],
      "metadata": {
        "colab": {
          "base_uri": "https://localhost:8080/",
          "height": 424
        },
        "id": "enIncNBXmdsO",
        "outputId": "8305b712-3095-44b7-814b-ad3fa4c55e27"
      },
      "execution_count": null,
      "outputs": [
        {
          "output_type": "execute_result",
          "data": {
            "text/plain": [
              "      trip_id  vid      start_time\n",
              "0      204959  112  20220111 00:00\n",
              "1        None  127  20220111 00:00\n",
              "2      204959  112  20220111 00:00\n",
              "3      206345  152  20220111 00:00\n",
              "4      205087  150  20220111 00:00\n",
              "...       ...  ...             ...\n",
              "44184    None  150  20220111 23:59\n",
              "44185  204959  126  20220111 23:59\n",
              "44186  206345  111  20220111 23:59\n",
              "44187  205087  154  20220111 23:59\n",
              "44188    None  150  20220111 23:59\n",
              "\n",
              "[44189 rows x 3 columns]"
            ],
            "text/html": [
              "\n",
              "  <div id=\"df-22b0b95b-2821-4238-936b-d6e630b57246\">\n",
              "    <div class=\"colab-df-container\">\n",
              "      <div>\n",
              "<style scoped>\n",
              "    .dataframe tbody tr th:only-of-type {\n",
              "        vertical-align: middle;\n",
              "    }\n",
              "\n",
              "    .dataframe tbody tr th {\n",
              "        vertical-align: top;\n",
              "    }\n",
              "\n",
              "    .dataframe thead th {\n",
              "        text-align: right;\n",
              "    }\n",
              "</style>\n",
              "<table border=\"1\" class=\"dataframe\">\n",
              "  <thead>\n",
              "    <tr style=\"text-align: right;\">\n",
              "      <th></th>\n",
              "      <th>trip_id</th>\n",
              "      <th>vid</th>\n",
              "      <th>start_time</th>\n",
              "    </tr>\n",
              "  </thead>\n",
              "  <tbody>\n",
              "    <tr>\n",
              "      <th>0</th>\n",
              "      <td>204959</td>\n",
              "      <td>112</td>\n",
              "      <td>20220111 00:00</td>\n",
              "    </tr>\n",
              "    <tr>\n",
              "      <th>1</th>\n",
              "      <td>None</td>\n",
              "      <td>127</td>\n",
              "      <td>20220111 00:00</td>\n",
              "    </tr>\n",
              "    <tr>\n",
              "      <th>2</th>\n",
              "      <td>204959</td>\n",
              "      <td>112</td>\n",
              "      <td>20220111 00:00</td>\n",
              "    </tr>\n",
              "    <tr>\n",
              "      <th>3</th>\n",
              "      <td>206345</td>\n",
              "      <td>152</td>\n",
              "      <td>20220111 00:00</td>\n",
              "    </tr>\n",
              "    <tr>\n",
              "      <th>4</th>\n",
              "      <td>205087</td>\n",
              "      <td>150</td>\n",
              "      <td>20220111 00:00</td>\n",
              "    </tr>\n",
              "    <tr>\n",
              "      <th>...</th>\n",
              "      <td>...</td>\n",
              "      <td>...</td>\n",
              "      <td>...</td>\n",
              "    </tr>\n",
              "    <tr>\n",
              "      <th>44184</th>\n",
              "      <td>None</td>\n",
              "      <td>150</td>\n",
              "      <td>20220111 23:59</td>\n",
              "    </tr>\n",
              "    <tr>\n",
              "      <th>44185</th>\n",
              "      <td>204959</td>\n",
              "      <td>126</td>\n",
              "      <td>20220111 23:59</td>\n",
              "    </tr>\n",
              "    <tr>\n",
              "      <th>44186</th>\n",
              "      <td>206345</td>\n",
              "      <td>111</td>\n",
              "      <td>20220111 23:59</td>\n",
              "    </tr>\n",
              "    <tr>\n",
              "      <th>44187</th>\n",
              "      <td>205087</td>\n",
              "      <td>154</td>\n",
              "      <td>20220111 23:59</td>\n",
              "    </tr>\n",
              "    <tr>\n",
              "      <th>44188</th>\n",
              "      <td>None</td>\n",
              "      <td>150</td>\n",
              "      <td>20220111 23:59</td>\n",
              "    </tr>\n",
              "  </tbody>\n",
              "</table>\n",
              "<p>44189 rows × 3 columns</p>\n",
              "</div>\n",
              "      <button class=\"colab-df-convert\" onclick=\"convertToInteractive('df-22b0b95b-2821-4238-936b-d6e630b57246')\"\n",
              "              title=\"Convert this dataframe to an interactive table.\"\n",
              "              style=\"display:none;\">\n",
              "        \n",
              "  <svg xmlns=\"http://www.w3.org/2000/svg\" height=\"24px\"viewBox=\"0 0 24 24\"\n",
              "       width=\"24px\">\n",
              "    <path d=\"M0 0h24v24H0V0z\" fill=\"none\"/>\n",
              "    <path d=\"M18.56 5.44l.94 2.06.94-2.06 2.06-.94-2.06-.94-.94-2.06-.94 2.06-2.06.94zm-11 1L8.5 8.5l.94-2.06 2.06-.94-2.06-.94L8.5 2.5l-.94 2.06-2.06.94zm10 10l.94 2.06.94-2.06 2.06-.94-2.06-.94-.94-2.06-.94 2.06-2.06.94z\"/><path d=\"M17.41 7.96l-1.37-1.37c-.4-.4-.92-.59-1.43-.59-.52 0-1.04.2-1.43.59L10.3 9.45l-7.72 7.72c-.78.78-.78 2.05 0 2.83L4 21.41c.39.39.9.59 1.41.59.51 0 1.02-.2 1.41-.59l7.78-7.78 2.81-2.81c.8-.78.8-2.07 0-2.86zM5.41 20L4 18.59l7.72-7.72 1.47 1.35L5.41 20z\"/>\n",
              "  </svg>\n",
              "      </button>\n",
              "      \n",
              "  <style>\n",
              "    .colab-df-container {\n",
              "      display:flex;\n",
              "      flex-wrap:wrap;\n",
              "      gap: 12px;\n",
              "    }\n",
              "\n",
              "    .colab-df-convert {\n",
              "      background-color: #E8F0FE;\n",
              "      border: none;\n",
              "      border-radius: 50%;\n",
              "      cursor: pointer;\n",
              "      display: none;\n",
              "      fill: #1967D2;\n",
              "      height: 32px;\n",
              "      padding: 0 0 0 0;\n",
              "      width: 32px;\n",
              "    }\n",
              "\n",
              "    .colab-df-convert:hover {\n",
              "      background-color: #E2EBFA;\n",
              "      box-shadow: 0px 1px 2px rgba(60, 64, 67, 0.3), 0px 1px 3px 1px rgba(60, 64, 67, 0.15);\n",
              "      fill: #174EA6;\n",
              "    }\n",
              "\n",
              "    [theme=dark] .colab-df-convert {\n",
              "      background-color: #3B4455;\n",
              "      fill: #D2E3FC;\n",
              "    }\n",
              "\n",
              "    [theme=dark] .colab-df-convert:hover {\n",
              "      background-color: #434B5C;\n",
              "      box-shadow: 0px 1px 3px 1px rgba(0, 0, 0, 0.15);\n",
              "      filter: drop-shadow(0px 1px 2px rgba(0, 0, 0, 0.3));\n",
              "      fill: #FFFFFF;\n",
              "    }\n",
              "  </style>\n",
              "\n",
              "      <script>\n",
              "        const buttonEl =\n",
              "          document.querySelector('#df-22b0b95b-2821-4238-936b-d6e630b57246 button.colab-df-convert');\n",
              "        buttonEl.style.display =\n",
              "          google.colab.kernel.accessAllowed ? 'block' : 'none';\n",
              "\n",
              "        async function convertToInteractive(key) {\n",
              "          const element = document.querySelector('#df-22b0b95b-2821-4238-936b-d6e630b57246');\n",
              "          const dataTable =\n",
              "            await google.colab.kernel.invokeFunction('convertToInteractive',\n",
              "                                                     [key], {});\n",
              "          if (!dataTable) return;\n",
              "\n",
              "          const docLinkHtml = 'Like what you see? Visit the ' +\n",
              "            '<a target=\"_blank\" href=https://colab.research.google.com/notebooks/data_table.ipynb>data table notebook</a>'\n",
              "            + ' to learn more about interactive tables.';\n",
              "          element.innerHTML = '';\n",
              "          dataTable['output_type'] = 'display_data';\n",
              "          await google.colab.output.renderOutput(dataTable, element);\n",
              "          const docLink = document.createElement('div');\n",
              "          docLink.innerHTML = docLinkHtml;\n",
              "          element.appendChild(docLink);\n",
              "        }\n",
              "      </script>\n",
              "    </div>\n",
              "  </div>\n",
              "  "
            ]
          },
          "metadata": {},
          "execution_count": 17
        }
      ]
    },
    {
      "cell_type": "code",
      "source": [
        "df_mod = data_gen_df.drop_duplicates(subset=[\"trip_id\", \"vid\"]).reset_index(inplace=False).dropna()\n",
        "df_mod[\"trip_id\"] = df_mod[\"trip_id\"]+\"020\"\n",
        "df_mod = df_mod.drop(['index'], axis=1)\n",
        "# df_mod = df_mod[[\"trip_id\", \"vid\", 'start_time']]\n",
        "df_mod"
      ],
      "metadata": {
        "colab": {
          "base_uri": "https://localhost:8080/",
          "height": 424
        },
        "id": "q_Dyhi0knZox",
        "outputId": "6548f4a7-250b-470f-ea49-cd56d527e126"
      },
      "execution_count": null,
      "outputs": [
        {
          "output_type": "execute_result",
          "data": {
            "text/plain": [
              "       trip_id  vid      start_time\n",
              "0    204959020  112  20220111 00:00\n",
              "2    206345020  152  20220111 00:00\n",
              "3    205087020  150  20220111 00:00\n",
              "6    206311020  504  20220111 04:21\n",
              "9    206129020  113  20220111 04:39\n",
              "..         ...  ...             ...\n",
              "759  206345020  111  20220111 23:25\n",
              "760  205173020  154  20220111 23:25\n",
              "761  204923020  126  20220111 23:37\n",
              "762  204959020  126  20220111 23:57\n",
              "763  205087020  154  20220111 23:59\n",
              "\n",
              "[716 rows x 3 columns]"
            ],
            "text/html": [
              "\n",
              "  <div id=\"df-601317ee-cdd0-48aa-93fe-fc8429abaea9\">\n",
              "    <div class=\"colab-df-container\">\n",
              "      <div>\n",
              "<style scoped>\n",
              "    .dataframe tbody tr th:only-of-type {\n",
              "        vertical-align: middle;\n",
              "    }\n",
              "\n",
              "    .dataframe tbody tr th {\n",
              "        vertical-align: top;\n",
              "    }\n",
              "\n",
              "    .dataframe thead th {\n",
              "        text-align: right;\n",
              "    }\n",
              "</style>\n",
              "<table border=\"1\" class=\"dataframe\">\n",
              "  <thead>\n",
              "    <tr style=\"text-align: right;\">\n",
              "      <th></th>\n",
              "      <th>trip_id</th>\n",
              "      <th>vid</th>\n",
              "      <th>start_time</th>\n",
              "    </tr>\n",
              "  </thead>\n",
              "  <tbody>\n",
              "    <tr>\n",
              "      <th>0</th>\n",
              "      <td>204959020</td>\n",
              "      <td>112</td>\n",
              "      <td>20220111 00:00</td>\n",
              "    </tr>\n",
              "    <tr>\n",
              "      <th>2</th>\n",
              "      <td>206345020</td>\n",
              "      <td>152</td>\n",
              "      <td>20220111 00:00</td>\n",
              "    </tr>\n",
              "    <tr>\n",
              "      <th>3</th>\n",
              "      <td>205087020</td>\n",
              "      <td>150</td>\n",
              "      <td>20220111 00:00</td>\n",
              "    </tr>\n",
              "    <tr>\n",
              "      <th>6</th>\n",
              "      <td>206311020</td>\n",
              "      <td>504</td>\n",
              "      <td>20220111 04:21</td>\n",
              "    </tr>\n",
              "    <tr>\n",
              "      <th>9</th>\n",
              "      <td>206129020</td>\n",
              "      <td>113</td>\n",
              "      <td>20220111 04:39</td>\n",
              "    </tr>\n",
              "    <tr>\n",
              "      <th>...</th>\n",
              "      <td>...</td>\n",
              "      <td>...</td>\n",
              "      <td>...</td>\n",
              "    </tr>\n",
              "    <tr>\n",
              "      <th>759</th>\n",
              "      <td>206345020</td>\n",
              "      <td>111</td>\n",
              "      <td>20220111 23:25</td>\n",
              "    </tr>\n",
              "    <tr>\n",
              "      <th>760</th>\n",
              "      <td>205173020</td>\n",
              "      <td>154</td>\n",
              "      <td>20220111 23:25</td>\n",
              "    </tr>\n",
              "    <tr>\n",
              "      <th>761</th>\n",
              "      <td>204923020</td>\n",
              "      <td>126</td>\n",
              "      <td>20220111 23:37</td>\n",
              "    </tr>\n",
              "    <tr>\n",
              "      <th>762</th>\n",
              "      <td>204959020</td>\n",
              "      <td>126</td>\n",
              "      <td>20220111 23:57</td>\n",
              "    </tr>\n",
              "    <tr>\n",
              "      <th>763</th>\n",
              "      <td>205087020</td>\n",
              "      <td>154</td>\n",
              "      <td>20220111 23:59</td>\n",
              "    </tr>\n",
              "  </tbody>\n",
              "</table>\n",
              "<p>716 rows × 3 columns</p>\n",
              "</div>\n",
              "      <button class=\"colab-df-convert\" onclick=\"convertToInteractive('df-601317ee-cdd0-48aa-93fe-fc8429abaea9')\"\n",
              "              title=\"Convert this dataframe to an interactive table.\"\n",
              "              style=\"display:none;\">\n",
              "        \n",
              "  <svg xmlns=\"http://www.w3.org/2000/svg\" height=\"24px\"viewBox=\"0 0 24 24\"\n",
              "       width=\"24px\">\n",
              "    <path d=\"M0 0h24v24H0V0z\" fill=\"none\"/>\n",
              "    <path d=\"M18.56 5.44l.94 2.06.94-2.06 2.06-.94-2.06-.94-.94-2.06-.94 2.06-2.06.94zm-11 1L8.5 8.5l.94-2.06 2.06-.94-2.06-.94L8.5 2.5l-.94 2.06-2.06.94zm10 10l.94 2.06.94-2.06 2.06-.94-2.06-.94-.94-2.06-.94 2.06-2.06.94z\"/><path d=\"M17.41 7.96l-1.37-1.37c-.4-.4-.92-.59-1.43-.59-.52 0-1.04.2-1.43.59L10.3 9.45l-7.72 7.72c-.78.78-.78 2.05 0 2.83L4 21.41c.39.39.9.59 1.41.59.51 0 1.02-.2 1.41-.59l7.78-7.78 2.81-2.81c.8-.78.8-2.07 0-2.86zM5.41 20L4 18.59l7.72-7.72 1.47 1.35L5.41 20z\"/>\n",
              "  </svg>\n",
              "      </button>\n",
              "      \n",
              "  <style>\n",
              "    .colab-df-container {\n",
              "      display:flex;\n",
              "      flex-wrap:wrap;\n",
              "      gap: 12px;\n",
              "    }\n",
              "\n",
              "    .colab-df-convert {\n",
              "      background-color: #E8F0FE;\n",
              "      border: none;\n",
              "      border-radius: 50%;\n",
              "      cursor: pointer;\n",
              "      display: none;\n",
              "      fill: #1967D2;\n",
              "      height: 32px;\n",
              "      padding: 0 0 0 0;\n",
              "      width: 32px;\n",
              "    }\n",
              "\n",
              "    .colab-df-convert:hover {\n",
              "      background-color: #E2EBFA;\n",
              "      box-shadow: 0px 1px 2px rgba(60, 64, 67, 0.3), 0px 1px 3px 1px rgba(60, 64, 67, 0.15);\n",
              "      fill: #174EA6;\n",
              "    }\n",
              "\n",
              "    [theme=dark] .colab-df-convert {\n",
              "      background-color: #3B4455;\n",
              "      fill: #D2E3FC;\n",
              "    }\n",
              "\n",
              "    [theme=dark] .colab-df-convert:hover {\n",
              "      background-color: #434B5C;\n",
              "      box-shadow: 0px 1px 3px 1px rgba(0, 0, 0, 0.15);\n",
              "      filter: drop-shadow(0px 1px 2px rgba(0, 0, 0, 0.3));\n",
              "      fill: #FFFFFF;\n",
              "    }\n",
              "  </style>\n",
              "\n",
              "      <script>\n",
              "        const buttonEl =\n",
              "          document.querySelector('#df-601317ee-cdd0-48aa-93fe-fc8429abaea9 button.colab-df-convert');\n",
              "        buttonEl.style.display =\n",
              "          google.colab.kernel.accessAllowed ? 'block' : 'none';\n",
              "\n",
              "        async function convertToInteractive(key) {\n",
              "          const element = document.querySelector('#df-601317ee-cdd0-48aa-93fe-fc8429abaea9');\n",
              "          const dataTable =\n",
              "            await google.colab.kernel.invokeFunction('convertToInteractive',\n",
              "                                                     [key], {});\n",
              "          if (!dataTable) return;\n",
              "\n",
              "          const docLinkHtml = 'Like what you see? Visit the ' +\n",
              "            '<a target=\"_blank\" href=https://colab.research.google.com/notebooks/data_table.ipynb>data table notebook</a>'\n",
              "            + ' to learn more about interactive tables.';\n",
              "          element.innerHTML = '';\n",
              "          dataTable['output_type'] = 'display_data';\n",
              "          await google.colab.output.renderOutput(dataTable, element);\n",
              "          const docLink = document.createElement('div');\n",
              "          docLink.innerHTML = docLinkHtml;\n",
              "          element.appendChild(docLink);\n",
              "        }\n",
              "      </script>\n",
              "    </div>\n",
              "  </div>\n",
              "  "
            ]
          },
          "metadata": {},
          "execution_count": 22
        }
      ]
    },
    {
      "cell_type": "code",
      "source": [
        "df_mod.to_csv('trips_vid_n_time_20220111.csv', index=False)"
      ],
      "metadata": {
        "id": "mAeC0owSoooC"
      },
      "execution_count": null,
      "outputs": []
    },
    {
      "cell_type": "code",
      "execution_count": null,
      "source": [
        "import pandas as pd\n",
        "import json\n",
        "df = pd.read_csv(\"trips.txt\", sep=\",\")\n",
        "\n",
        "trips = unique_trp\n",
        "trips = list(map(int, trips))\n",
        "\n",
        "df_fil  = pd.DataFrame(columns = df.columns)\n",
        "\n",
        "indices = []\n",
        "for trip in trips:\n",
        "    for index, row in df.iterrows():       \n",
        "        if trip == int(row['trip_id']/1000):\n",
        "            \n",
        "            indices.append(index)\n",
        "            df_fil.append(row, ignore_index=True)\n",
        "            break\n",
        "\n",
        "\n",
        "df_fil = df.iloc[indices]\n",
        "print(df_fil.head())\n",
        "df_fil.to_csv('df_fil_19.csv', index=False)\n"
      ],
      "outputs": [
        {
          "output_type": "stream",
          "name": "stdout",
          "text": [
            "     trip_id route_id  service_id trip_headsign  trip_short_name  \\\n",
            "0  204888020        1           1    ALTON PARK              NaN   \n",
            "1  204889020        1           1    ALTON PARK              NaN   \n",
            "2  204890020        1           1    ALTON PARK              NaN   \n",
            "3  204891020        1           1    ALTON PARK              NaN   \n",
            "4  204892020        1           1    ALTON PARK              NaN   \n",
            "\n",
            "   direction_id  block_id  shape_id  wheelchair_accessible  bikes_allowed  \\\n",
            "0             0      1002  shp-1-04                      2              2   \n",
            "1             0      2802  shp-1-03                      2              2   \n",
            "2             0      3002  shp-1-03                      2              2   \n",
            "3             0      2802  shp-1-03                      2              2   \n",
            "4             0      3002  shp-1-03                      2              2   \n",
            "\n",
            "   block_name  \n",
            "0         107  \n",
            "1         155  \n",
            "2         156  \n",
            "3         155  \n",
            "4         156  \n"
          ]
        }
      ],
      "metadata": {
        "id": "ttcyXfd_lDU8",
        "outputId": "8435fb1c-8e03-480d-b70a-f35c0c16c26a"
      }
    }
  ],
  "metadata": {
    "orig_nbformat": 4,
    "language_info": {
      "name": "python",
      "version": "3.9.0",
      "mimetype": "text/x-python",
      "codemirror_mode": {
        "name": "ipython",
        "version": 3
      },
      "pygments_lexer": "ipython3",
      "nbconvert_exporter": "python",
      "file_extension": ".py"
    },
    "kernelspec": {
      "name": "python3",
      "display_name": "Python 3.9.0 64-bit"
    },
    "interpreter": {
      "hash": "63fd5069d213b44bf678585dea6b12cceca9941eaf7f819626cde1f2670de90d"
    },
    "colab": {
      "name": "trips&vid_filtering.ipynb",
      "provenance": [],
      "include_colab_link": true
    }
  },
  "nbformat": 4,
  "nbformat_minor": 0
}