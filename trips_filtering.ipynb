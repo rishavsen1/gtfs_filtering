{
 "cells": [
  {
   "cell_type": "code",
   "execution_count": 8,
   "source": [
    "import json\r\n",
    "with open(\"bustime_chattanooga_jan_2022.json\", \"r\") as f:\r\n",
    "    data = json.load(f)\r\n",
    "\r\n",
    "dated = []\r\n",
    "for record in data:\r\n",
    "    tmstmp = record[\"tmstmp\"]\r\n",
    "    if \"20220119\" in tmstmp:\r\n",
    "\r\n",
    "        dated.append(record)\r\n",
    "   \r\n",
    "\r\n"
   ],
   "outputs": [],
   "metadata": {}
  },
  {
   "cell_type": "code",
   "execution_count": 9,
   "source": [
    "data =dated\r\n",
    "dated = []\r\n",
    "for record in data:\r\n",
    "    trp = record[\"origtatripno\"]\r\n",
    "    if trp:\r\n",
    "        dated.append(trp)\r\n",
    "\r\n",
    "unique_trp = list(set(dated))\r\n",
    "unique_trp.sort()\r\n",
    "\r\n",
    "print(len(unique_trp))"
   ],
   "outputs": [
    {
     "output_type": "stream",
     "name": "stdout",
     "text": [
      "767\n"
     ]
    }
   ],
   "metadata": {}
  },
  {
   "cell_type": "code",
   "execution_count": 10,
   "source": [
    "import pandas as pd\r\n",
    "import json\r\n",
    "df = pd.read_csv(\"trips.txt\", sep=\",\")\r\n",
    "\r\n",
    "trips = unique_trp\r\n",
    "trips = list(map(int, trips))\r\n",
    "\r\n",
    "df_fil  = pd.DataFrame(columns = df.columns)\r\n",
    "\r\n",
    "indices = []\r\n",
    "for trip in trips:\r\n",
    "    for index, row in df.iterrows():       \r\n",
    "        if trip == int(row['trip_id']/1000):\r\n",
    "            \r\n",
    "            indices.append(index)\r\n",
    "            df_fil.append(row, ignore_index=True)\r\n",
    "            break\r\n",
    "\r\n",
    "\r\n",
    "df_fil = df.iloc[indices]\r\n",
    "print(df_fil.head())\r\n",
    "df_fil.to_csv('df_fil_19.csv', index=False)\r\n"
   ],
   "outputs": [
    {
     "output_type": "stream",
     "name": "stdout",
     "text": [
      "     trip_id route_id  service_id trip_headsign  trip_short_name  \\\n",
      "0  204888020        1           1    ALTON PARK              NaN   \n",
      "1  204889020        1           1    ALTON PARK              NaN   \n",
      "2  204890020        1           1    ALTON PARK              NaN   \n",
      "3  204891020        1           1    ALTON PARK              NaN   \n",
      "4  204892020        1           1    ALTON PARK              NaN   \n",
      "\n",
      "   direction_id  block_id  shape_id  wheelchair_accessible  bikes_allowed  \\\n",
      "0             0      1002  shp-1-04                      2              2   \n",
      "1             0      2802  shp-1-03                      2              2   \n",
      "2             0      3002  shp-1-03                      2              2   \n",
      "3             0      2802  shp-1-03                      2              2   \n",
      "4             0      3002  shp-1-03                      2              2   \n",
      "\n",
      "   block_name  \n",
      "0         107  \n",
      "1         155  \n",
      "2         156  \n",
      "3         155  \n",
      "4         156  \n"
     ]
    }
   ],
   "metadata": {}
  }
 ],
 "metadata": {
  "orig_nbformat": 4,
  "language_info": {
   "name": "python",
   "version": "3.9.0",
   "mimetype": "text/x-python",
   "codemirror_mode": {
    "name": "ipython",
    "version": 3
   },
   "pygments_lexer": "ipython3",
   "nbconvert_exporter": "python",
   "file_extension": ".py"
  },
  "kernelspec": {
   "name": "python3",
   "display_name": "Python 3.9.0 64-bit"
  },
  "interpreter": {
   "hash": "63fd5069d213b44bf678585dea6b12cceca9941eaf7f819626cde1f2670de90d"
  }
 },
 "nbformat": 4,
 "nbformat_minor": 2
}