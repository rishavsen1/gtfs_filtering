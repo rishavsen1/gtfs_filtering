{
  "cells": [
    {
      "cell_type": "markdown",
      "metadata": {
        "id": "view-in-github",
        "colab_type": "text"
      },
      "source": [
        "<a href=\"https://colab.research.google.com/github/rishavsen1/gtfs_filtering/blob/main/trips_vid_clever_time_GTFS.ipynb\" target=\"_parent\"><img src=\"https://colab.research.google.com/assets/colab-badge.svg\" alt=\"Open In Colab\"/></a>"
      ]
    },
    {
      "cell_type": "code",
      "source": [
        "!unzip bustime_chattanooga_jan_2022.json.zip"
      ],
      "metadata": {
        "colab": {
          "base_uri": "https://localhost:8080/"
        },
        "id": "_utdYy2FlKSZ",
        "outputId": "4839c376-2ea6-4299-b770-b13f061433b7"
      },
      "execution_count": 1,
      "outputs": [
        {
          "output_type": "stream",
          "name": "stdout",
          "text": [
            "Archive:  bustime_chattanooga_jan_2022.json.zip\n",
            "  inflating: bustime_chattanooga_jan_2022.json  \n"
          ]
        }
      ]
    },
    {
      "cell_type": "code",
      "execution_count": 2,
      "source": [
        "import json\n",
        "with open(\"bustime_chattanooga_jan_2022.json\", \"r\") as f:\n",
        "    data = json.load(f)\n",
        "\n",
        "dated = []\n",
        "for record in data:\n",
        "    tmstmp = record[\"tmstmp\"]\n",
        "    if \"20220111\" in tmstmp:\n",
        "\n",
        "        dated.append(record)\n",
        "\n"
      ],
      "outputs": [],
      "metadata": {
        "id": "QAtC8n8UlDU2"
      }
    },
    {
      "cell_type": "code",
      "source": [
        "data =dated\n",
        "dated = []\n",
        "for record in data:\n",
        "    trp = record[\"origtatripno\"]\n",
        "    if trp:\n",
        "        dated.append(trp)\n",
        "\n",
        "unique_trp = list(set(dated))\n",
        "unique_trp.sort()\n"
      ],
      "metadata": {
        "id": "zq8KG7Nl6eLs"
      },
      "execution_count": 17,
      "outputs": []
    },
    {
      "cell_type": "code",
      "source": [
        "for val in dated:\n",
        "  val['coords'] = val['geometry']['coordinates']"
      ],
      "metadata": {
        "id": "Bf2lyEZitQNU"
      },
      "execution_count": 3,
      "outputs": []
    },
    {
      "cell_type": "code",
      "source": [
        "gdf.to_csv('20220111_spd_lat_long.geojson')"
      ],
      "metadata": {
        "id": "EogvU46SxXrB"
      },
      "execution_count": null,
      "outputs": []
    },
    {
      "cell_type": "code",
      "execution_count": 4,
      "source": [
        "from datetime import time\n",
        "data =dated\n",
        "data_gen = []\n",
        "vid = []\n",
        "prev_trip_id = None\n",
        "for record in data:\n",
        "    trip_id = record[\"origtatripno\"]\n",
        "    if prev_trip_id != trip_id:\n",
        "        vid = record['vid']\n",
        "        srvtmstmp = record['srvtmstmp']\n",
        "        data_gen.append({\"trip_id\": trip_id, \"vid\":vid, \"start_time\":srvtmstmp})\n",
        "        prev_trip_id = trip_id\n",
        "\n",
        "# unique_trp = list(set(data_gen))\n",
        "# unique_trp.sort()\n",
        "# data_gen\n",
        "# print(len(unique_trp))"
      ],
      "outputs": [],
      "metadata": {
        "id": "GSja--BilDU7"
      }
    },
    {
      "cell_type": "markdown",
      "source": [
        "## Clever vid, trip id and GTFS times"
      ],
      "metadata": {
        "id": "q6wjSl8tApEp"
      }
    },
    {
      "cell_type": "code",
      "source": [
        "!pip install geopandas"
      ],
      "metadata": {
        "id": "Iv5OUQvg6Hb_",
        "outputId": "74fe1ecc-6bdf-459a-bab4-d8b9b1839888",
        "colab": {
          "base_uri": "https://localhost:8080/"
        }
      },
      "execution_count": 14,
      "outputs": [
        {
          "output_type": "stream",
          "name": "stdout",
          "text": [
            "Looking in indexes: https://pypi.org/simple, https://us-python.pkg.dev/colab-wheels/public/simple/\n",
            "Collecting geopandas\n",
            "  Downloading geopandas-0.10.2-py2.py3-none-any.whl (1.0 MB)\n",
            "\u001b[K     |████████████████████████████████| 1.0 MB 7.9 MB/s \n",
            "\u001b[?25hRequirement already satisfied: pandas>=0.25.0 in /usr/local/lib/python3.7/dist-packages (from geopandas) (1.3.5)\n",
            "Collecting fiona>=1.8\n",
            "  Downloading Fiona-1.8.21-cp37-cp37m-manylinux2014_x86_64.whl (16.7 MB)\n",
            "\u001b[K     |████████████████████████████████| 16.7 MB 325 kB/s \n",
            "\u001b[?25hRequirement already satisfied: shapely>=1.6 in /usr/local/lib/python3.7/dist-packages (from geopandas) (1.8.2)\n",
            "Collecting pyproj>=2.2.0\n",
            "  Downloading pyproj-3.2.1-cp37-cp37m-manylinux2010_x86_64.whl (6.3 MB)\n",
            "\u001b[K     |████████████████████████████████| 6.3 MB 45.1 MB/s \n",
            "\u001b[?25hCollecting cligj>=0.5\n",
            "  Downloading cligj-0.7.2-py3-none-any.whl (7.1 kB)\n",
            "Collecting click-plugins>=1.0\n",
            "  Downloading click_plugins-1.1.1-py2.py3-none-any.whl (7.5 kB)\n",
            "Requirement already satisfied: click>=4.0 in /usr/local/lib/python3.7/dist-packages (from fiona>=1.8->geopandas) (7.1.2)\n",
            "Requirement already satisfied: certifi in /usr/local/lib/python3.7/dist-packages (from fiona>=1.8->geopandas) (2022.6.15)\n",
            "Requirement already satisfied: setuptools in /usr/local/lib/python3.7/dist-packages (from fiona>=1.8->geopandas) (57.4.0)\n",
            "Requirement already satisfied: six>=1.7 in /usr/local/lib/python3.7/dist-packages (from fiona>=1.8->geopandas) (1.15.0)\n",
            "Collecting munch\n",
            "  Downloading munch-2.5.0-py2.py3-none-any.whl (10 kB)\n",
            "Requirement already satisfied: attrs>=17 in /usr/local/lib/python3.7/dist-packages (from fiona>=1.8->geopandas) (21.4.0)\n",
            "Requirement already satisfied: python-dateutil>=2.7.3 in /usr/local/lib/python3.7/dist-packages (from pandas>=0.25.0->geopandas) (2.8.2)\n",
            "Requirement already satisfied: numpy>=1.17.3 in /usr/local/lib/python3.7/dist-packages (from pandas>=0.25.0->geopandas) (1.21.6)\n",
            "Requirement already satisfied: pytz>=2017.3 in /usr/local/lib/python3.7/dist-packages (from pandas>=0.25.0->geopandas) (2022.1)\n",
            "Installing collected packages: munch, cligj, click-plugins, pyproj, fiona, geopandas\n",
            "Successfully installed click-plugins-1.1.1 cligj-0.7.2 fiona-1.8.21 geopandas-0.10.2 munch-2.5.0 pyproj-3.2.1\n"
          ]
        }
      ]
    },
    {
      "cell_type": "code",
      "source": [
        "import pandas as pd\n",
        "data_gen_df = pd.DataFrame(data_gen, columns=[\"trip_id\", 'vid', 'start_time'])\n",
        "# data_gen_df"
      ],
      "metadata": {
        "id": "enIncNBXmdsO"
      },
      "execution_count": 19,
      "outputs": []
    },
    {
      "cell_type": "code",
      "source": [
        "df_mod = data_gen_df.drop_duplicates(subset=[\"trip_id\", \"vid\"]).reset_index(inplace=False).dropna()\n",
        "df_mod[\"trip_id\"] = df_mod[\"trip_id\"]+\"020\"\n",
        "df_mod = df_mod.drop(['index'], axis=1)\n",
        "# df_mod = df_mod[[\"trip_id\", \"vid\", 'start_time']]\n",
        "df_mod = df_mod[df_mod.start_time > '20220111 04:00']"
      ],
      "metadata": {
        "id": "q_Dyhi0knZox"
      },
      "execution_count": 27,
      "outputs": []
    },
    {
      "cell_type": "code",
      "source": [
        "import gtfs_functions as gtfs\n",
        "routes, stops, stop_times, trips, shapes = gtfs.import_gtfs('./2021-10-24.zip')"
      ],
      "metadata": {
        "id": "KErC5EEK6Eel"
      },
      "execution_count": 15,
      "outputs": []
    },
    {
      "cell_type": "code",
      "source": [
        "import time\n",
        "def val_to_time(val):\n",
        "  return (time.strftime('%H:%M:%S', time.gmtime(val)))"
      ],
      "metadata": {
        "id": "4X8iwub3-MPB"
      },
      "execution_count": 55,
      "outputs": []
    },
    {
      "cell_type": "code",
      "source": [
        "df1 = df_mod\n",
        "for unique in unique_trp:\n",
        "    temp = stop_times[stop_times.trip_id == unique+'020'].sort_values('arrival_time')\n",
        "    start = temp.arrival_time.iloc[0]\n",
        "    end = temp.arrival_time.iloc[-1]\n",
        "    t2 = df_mod.loc[df_mod.trip_id == unique+'020']\n",
        "    df1.loc[t2.index.tolist()[0], 'gtfs_start_time'] = val_to_time(start)\n",
        "    df1.loc[t2.index.tolist()[0], 'gtfs_end_time'] = val_to_time(end)\n",
        "    "
      ],
      "metadata": {
        "id": "TVwm2DsR6aUi"
      },
      "execution_count": 56,
      "outputs": []
    },
    {
      "cell_type": "code",
      "source": [
        "df1.to_csv('trips_vid_n_time_GTFS_20220111.csv', index=False)"
      ],
      "metadata": {
        "id": "CZsfJEwU7KaQ"
      },
      "execution_count": 61,
      "outputs": []
    },
    {
      "cell_type": "code",
      "source": [
        "df_mod.to_csv('trips_vid_n_time_20220111.csv', index=False)"
      ],
      "metadata": {
        "id": "mAeC0owSoooC"
      },
      "execution_count": null,
      "outputs": []
    }
  ],
  "metadata": {
    "orig_nbformat": 4,
    "language_info": {
      "name": "python",
      "version": "3.9.0",
      "mimetype": "text/x-python",
      "codemirror_mode": {
        "name": "ipython",
        "version": 3
      },
      "pygments_lexer": "ipython3",
      "nbconvert_exporter": "python",
      "file_extension": ".py"
    },
    "kernelspec": {
      "name": "python3",
      "display_name": "Python 3.9.0 64-bit"
    },
    "interpreter": {
      "hash": "63fd5069d213b44bf678585dea6b12cceca9941eaf7f819626cde1f2670de90d"
    },
    "colab": {
      "name": "trips&vid_filtering.ipynb",
      "provenance": [],
      "include_colab_link": true
    }
  },
  "nbformat": 4,
  "nbformat_minor": 0
}