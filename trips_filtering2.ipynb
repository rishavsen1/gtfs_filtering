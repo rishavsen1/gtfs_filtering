{
  "cells": [
    {
      "cell_type": "code",
      "source": [
        "!unzip bustime_chattanooga_jan_2022.json.zip"
      ],
      "metadata": {
        "colab": {
          "base_uri": "https://localhost:8080/"
        },
        "id": "esRuSJBIJ9E3",
        "outputId": "3c11f56c-8ee8-4921-a628-aa33bc908cf4"
      },
      "execution_count": 5,
      "outputs": [
        {
          "output_type": "stream",
          "name": "stdout",
          "text": [
            "Archive:  bustime_chattanooga_jan_2022.json.zip\n",
            "  inflating: bustime_chattanooga_jan_2022.json  \n"
          ]
        }
      ]
    },
    {
      "cell_type": "code",
      "execution_count": 1,
      "source": [
        "import json\n",
        "with open(\"bustime_chattanooga_jan_2022.json\", \"r\") as f:\n",
        "    data = json.load(f)\n",
        "\n",
        "#read only for specified date\n",
        "dated = []\n",
        "for record in data:\n",
        "    tmstmp = record[\"tmstmp\"]\n",
        "    if \"20220111\" in tmstmp:\n",
        "\n",
        "        dated.append(record)\n",
        "   \n",
        "\n"
      ],
      "outputs": [],
      "metadata": {
        "id": "b_fTs7SAJYUA"
      }
    },
    {
      "cell_type": "code",
      "execution_count": 2,
      "source": [
        "#Find relevant unique trip_ids for the day\n",
        "\n",
        "data =dated\n",
        "dated = []\n",
        "for record in data:\n",
        "    trp = record[\"origtatripno\"]\n",
        "    if trp:\n",
        "        dated.append(trp)\n",
        "\n",
        "unique_trp = list(set(dated))\n",
        "unique_trp.sort()\n",
        "\n",
        "print(len(unique_trp))"
      ],
      "outputs": [
        {
          "output_type": "stream",
          "name": "stdout",
          "text": [
            "712\n"
          ]
        }
      ],
      "metadata": {
        "colab": {
          "base_uri": "https://localhost:8080/"
        },
        "id": "OptTYuG3JYUC",
        "outputId": "67d9aeb9-4b81-4926-ac1c-47403b42d4e8"
      }
    },
    {
      "cell_type": "code",
      "execution_count": 4,
      "source": [
        "import pandas as pd\n",
        "import json\n",
        "df = pd.read_csv(\"./20211024/trips.txt\", sep=\",\")\n",
        "\n",
        "# use the trip_ids that are from the clever data and filter the trips.txt accordingly\n",
        "trips = unique_trp\n",
        "trips = list(map(int, trips))\n",
        "\n",
        "df_fil  = pd.DataFrame(columns = df.columns)\n",
        "\n",
        "indices = []\n",
        "for trip in trips:\n",
        "    for index, row in df.iterrows():       \n",
        "        if trip == int(row['trip_id']/1000):\n",
        "            \n",
        "            indices.append(index)\n",
        "            df_fil.append(row, ignore_index=True)\n",
        "            break\n",
        "\n",
        "\n",
        "df_fil = df.iloc[indices]\n",
        "print(df_fil.head())"
      ],
      "outputs": [
        {
          "output_type": "stream",
          "name": "stdout",
          "text": [
            "     trip_id route_id  service_id trip_headsign  trip_short_name  \\\n",
            "0  204888020        1           1    ALTON PARK              NaN   \n",
            "1  204889020        1           1    ALTON PARK              NaN   \n",
            "2  204890020        1           1    ALTON PARK              NaN   \n",
            "3  204891020        1           1    ALTON PARK              NaN   \n",
            "4  204892020        1           1    ALTON PARK              NaN   \n",
            "\n",
            "   direction_id  block_id  shape_id  wheelchair_accessible  bikes_allowed  \\\n",
            "0             0      1002  shp-1-04                      2              2   \n",
            "1             0      2802  shp-1-03                      2              2   \n",
            "2             0      3002  shp-1-03                      2              2   \n",
            "3             0      2802  shp-1-03                      2              2   \n",
            "4             0      3002  shp-1-03                      2              2   \n",
            "\n",
            "   block_name  \n",
            "0         107  \n",
            "1         155  \n",
            "2         156  \n",
            "3         155  \n",
            "4         156  \n"
          ]
        }
      ],
      "metadata": {
        "colab": {
          "base_uri": "https://localhost:8080/"
        },
        "id": "XA_fSRbpJYUD",
        "outputId": "55098410-1e39-46a5-fc46-9f475dc066b1"
      }
    },
    {
      "cell_type": "code",
      "source": [
        "#write as csv\n",
        "df_fil.to_csv('df_fil_19.csv', index=False)"
      ],
      "metadata": {
        "id": "dLFDeuIoLCb8"
      },
      "execution_count": 5,
      "outputs": []
    },
    {
      "cell_type": "code",
      "source": [
        "#write to txt\n",
        "df_fil.to_csv(r'trips_new.txt', header=True, index=None, sep=',', mode='a')"
      ],
      "metadata": {
        "id": "UgjknB76LGpC"
      },
      "execution_count": 11,
      "outputs": []
    }
  ],
  "metadata": {
    "orig_nbformat": 4,
    "language_info": {
      "name": "python",
      "version": "3.9.0",
      "mimetype": "text/x-python",
      "codemirror_mode": {
        "name": "ipython",
        "version": 3
      },
      "pygments_lexer": "ipython3",
      "nbconvert_exporter": "python",
      "file_extension": ".py"
    },
    "kernelspec": {
      "name": "python3",
      "display_name": "Python 3.9.0 64-bit"
    },
    "interpreter": {
      "hash": "63fd5069d213b44bf678585dea6b12cceca9941eaf7f819626cde1f2670de90d"
    },
    "colab": {
      "name": "trips_filtering.ipynb",
      "provenance": []
    }
  },
  "nbformat": 4,
  "nbformat_minor": 0
}